{
  "nbformat": 4,
  "nbformat_minor": 0,
  "metadata": {
    "colab": {
      "provenance": [],
      "authorship_tag": "ABX9TyPW22ji8ziBxPOjhzQauSkq",
      "include_colab_link": true
    },
    "kernelspec": {
      "name": "python3",
      "display_name": "Python 3"
    },
    "language_info": {
      "name": "python"
    }
  },
  "cells": [
    {
      "cell_type": "markdown",
      "metadata": {
        "id": "view-in-github",
        "colab_type": "text"
      },
      "source": [
        "<a href=\"https://colab.research.google.com/github/ortizfram/predicting-stock-prices/blob/main/prediciton.ipynb\" target=\"_parent\"><img src=\"https://colab.research.google.com/assets/colab-badge.svg\" alt=\"Open In Colab\"/></a>"
      ]
    },
    {
      "cell_type": "code",
      "execution_count": 2,
      "metadata": {
        "id": "SMDDYM1abgDw"
      },
      "outputs": [],
      "source": [
        "# install import libraries\n",
        "\n",
        "# !pip install pandas-datareader tensorflow scikit-learn\n",
        "import pandas as pd\n",
        "import numpy as np \n",
        "import pandas_datareader as web\n",
        "import matplotlib.pyplot as plt\n",
        "import datetime as dt\n",
        "\n",
        "from sklearn.preprocessing import MinMaxScaler\n",
        "from tensorflow.keras.models import Sequential\n",
        "from tensorflow.keras.layers import Dense, Dropout, LSTM"
      ]
    },
    {
      "cell_type": "code",
      "source": [
        "# Load data\n",
        "\n",
        "# ticker symbols \n",
        "#     if wanna know more just google \n",
        "#     ->'company name' ticker symbol\n",
        "company = 'FB'   \n",
        "\n",
        "start = dt.datetime(2012,1,1)\n",
        "end = dt.datetime(2023,2,24)\n",
        "\n",
        "data = web.DataReader(company, )"
      ],
      "metadata": {
        "id": "MVcK2mEbedfN"
      },
      "execution_count": null,
      "outputs": []
    }
  ]
}